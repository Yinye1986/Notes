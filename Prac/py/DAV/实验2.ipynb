{
 "cells": [
  {
   "cell_type": "code",
   "execution_count": 37,
   "id": "813d1c73-360b-4653-8850-f6041c853d27",
   "metadata": {},
   "outputs": [
    {
     "name": "stdout",
     "output_type": "stream",
     "text": [
      "[[   2016.   746395.1   60139.2  295427.8  390828.1]\n",
      " [   2020.  1013567.    78030.9  383562.4  551973.7]\n",
      " [   2012.   538580.    49084.6  244639.1  244856.2]\n",
      " [   2013.   592963.2   53028.1  261951.6  277983.5]\n",
      " [   2021.  1143669.7   83085.5  450904.5  609679.7]\n",
      " [   2014.   643563.1   55626.3  277282.8  310654. ]\n",
      " [   2015.   688858.2   57774.6  281338.9  349744.7]\n",
      " [   2019.   986515.2   70473.6  380670.6  535371. ]\n",
      " [   2017.   832035.9   62099.5  331580.5  438355.9]\n",
      " [   2018.   919281.1   64745.2  364835.2  489700.8]\n",
      " [   2019.   986515.2   70473.6  380670.6  535371. ]\n",
      " [   2021.  1143669.7   83085.5  450904.5  609679.7]]\n"
     ]
    }
   ],
   "source": [
    "import numpy as np\n",
    "np.set_printoptions(\n",
    "    suppress=True,      # 禁用科學記號（如 1e+05）\n",
    "    precision=2,        # 小數點後 2 位\n",
    "    linewidth=150,      # 每行最大字元數（預設 75，太小會換行）\n",
    "    threshold=np.inf    # 顯示所有元素（避免中間用 ... 省略）\n",
    ")\n",
    "hcz = np.genfromtxt('GDP.csv', delimiter=',', dtype=float, skip_header=0)\n",
    "print(hcz)"
   ]
  },
  {
   "cell_type": "code",
   "execution_count": 38,
   "id": "ce96f6a8-7a72-4753-ba45-588578c8fe04",
   "metadata": {},
   "outputs": [
    {
     "name": "stdout",
     "output_type": "stream",
     "text": [
      "[[   2012.   538580.    49084.6  244639.1  244856.2]\n",
      " [   2013.   592963.2   53028.1  261951.6  277983.5]\n",
      " [   2014.   643563.1   55626.3  277282.8  310654. ]\n",
      " [   2015.   688858.2   57774.6  281338.9  349744.7]\n",
      " [   2016.   746395.1   60139.2  295427.8  390828.1]\n",
      " [   2017.   832035.9   62099.5  331580.5  438355.9]\n",
      " [   2018.   919281.1   64745.2  364835.2  489700.8]\n",
      " [   2019.   986515.2   70473.6  380670.6  535371. ]\n",
      " [   2019.   986515.2   70473.6  380670.6  535371. ]\n",
      " [   2020.  1013567.    78030.9  383562.4  551973.7]\n",
      " [   2021.  1143669.7   83085.5  450904.5  609679.7]\n",
      " [   2021.  1143669.7   83085.5  450904.5  609679.7]]\n"
     ]
    }
   ],
   "source": [
    "hcz_index = np.argsort(hcz[:, 0])\n",
    "hcz = hcz[hcz_index]\n",
    "print(hcz)"
   ]
  },
  {
   "cell_type": "code",
   "execution_count": 39,
   "id": "240be914-741a-4aca-bd59-be19028d5ff9",
   "metadata": {},
   "outputs": [
    {
     "name": "stdout",
     "output_type": "stream",
     "text": [
      "[[   2012.   538580.    49084.6  244639.1  244856.2]\n",
      " [   2013.   592963.2   53028.1  261951.6  277983.5]\n",
      " [   2014.   643563.1   55626.3  277282.8  310654. ]\n",
      " [   2015.   688858.2   57774.6  281338.9  349744.7]\n",
      " [   2016.   746395.1   60139.2  295427.8  390828.1]\n",
      " [   2017.   832035.9   62099.5  331580.5  438355.9]\n",
      " [   2018.   919281.1   64745.2  364835.2  489700.8]\n",
      " [   2019.   986515.2   70473.6  380670.6  535371. ]\n",
      " [   2020.  1013567.    78030.9  383562.4  551973.7]\n",
      " [   2021.  1143669.7   83085.5  450904.5  609679.7]]\n"
     ]
    }
   ],
   "source": [
    "hcz_unique_index = np.unique(hcz[:, 0], return_index=True)[1]\n",
    "hcz = hcz[hcz_unique_index]\n",
    "print(hcz)"
   ]
  },
  {
   "cell_type": "code",
   "execution_count": 40,
   "id": "455917c2-ecfc-4a3b-8c8f-041e2a454126",
   "metadata": {},
   "outputs": [
    {
     "name": "stdout",
     "output_type": "stream",
     "text": [
      "[[2012.       nan     nan     nan     nan]\n",
      " [2013.     10.1     8.03    7.08   13.53]\n",
      " [2014.      8.53    4.9     5.85   11.75]\n",
      " [2015.      7.04    3.86    1.46   12.58]\n",
      " [2016.      8.35    4.09    5.01   11.75]\n",
      " [2017.     11.47    3.26   12.24   12.16]\n",
      " [2018.     10.49    4.26   10.03   11.71]\n",
      " [2019.      7.31    8.85    4.34    9.33]\n",
      " [2020.      2.74   10.72    0.76    3.1 ]\n",
      " [2021.     12.84    6.48   17.56   10.45]]\n"
     ]
    }
   ],
   "source": [
    "hcz_gdp = hcz[:, 1:]\n",
    "rates_tmp = np.diff(hcz_gdp, axis=0) / hcz_gdp[:-1] * 100\n",
    "rates_with_nan = np.full((rates_tmp.shape[0]+1, rates_tmp.shape[1]), np.nan)\n",
    "rates_with_nan[1:, :] = rates_tmp\n",
    "rates = np.column_stack((hcz[:, 0], rates_with_nan))\n",
    "print(rates)"
   ]
  },
  {
   "cell_type": "code",
   "execution_count": 41,
   "id": "e7d486e6-7121-4bea-b134-c951535276d1",
   "metadata": {},
   "outputs": [
    {
     "name": "stdout",
     "output_type": "stream",
     "text": [
      "[[   2012.    538580.     49084.6   244639.1   244856.2     2012.          nan        nan        nan        nan]\n",
      " [   2013.    592963.2    53028.1   261951.6   277983.5     2013.        10.1        8.03       7.08      13.53]\n",
      " [   2014.    643563.1    55626.3   277282.8   310654.      2014.         8.53       4.9        5.85      11.75]\n",
      " [   2015.    688858.2    57774.6   281338.9   349744.7     2015.         7.04       3.86       1.46      12.58]\n",
      " [   2016.    746395.1    60139.2   295427.8   390828.1     2016.         8.35       4.09       5.01      11.75]\n",
      " [   2017.    832035.9    62099.5   331580.5   438355.9     2017.        11.47       3.26      12.24      12.16]\n",
      " [   2018.    919281.1    64745.2   364835.2   489700.8     2018.        10.49       4.26      10.03      11.71]\n",
      " [   2019.    986515.2    70473.6   380670.6   535371.      2019.         7.31       8.85       4.34       9.33]\n",
      " [   2020.   1013567.     78030.9   383562.4   551973.7     2020.         2.74      10.72       0.76       3.1 ]\n",
      " [   2021.   1143669.7    83085.5   450904.5   609679.7     2021.        12.84       6.48      17.56      10.45]]\n"
     ]
    }
   ],
   "source": [
    "data2 = np.column_stack((hcz, rates))\n",
    "print(data2)"
   ]
  },
  {
   "cell_type": "code",
   "execution_count": 56,
   "id": "cfa0585e-85cc-4a3f-9b88-dc3fb186b427",
   "metadata": {},
   "outputs": [
    {
     "name": "stdout",
     "output_type": "stream",
     "text": [
      "810542.85 1143669.7 538580.0\n",
      "\n",
      " 8.763701332569227 12.836122328370985 2.742157444710436\n"
     ]
    }
   ],
   "source": [
    "hcz_sgdp = hcz[:, 1]\n",
    "mean_gdp = np.nanmean(hcz_sgdp)\n",
    "min_gdp = np.nanmin(hcz_sgdp)\n",
    "max_gdp = np.nanmax(hcz_sgdp)\n",
    "print(mean_gdp, max_gdp, min_gdp)\n",
    "hcz_srate = rates[:,1]\n",
    "mean_rate = np.nanmean(hcz_srate)\n",
    "min_rate = np.nanmin(hcz_srate)\n",
    "max_rate = np.nanmax(hcz_srate)\n",
    "print(\"\\n\",mean_rate, max_rate, min_rate)"
   ]
  },
  {
   "cell_type": "code",
   "execution_count": 57,
   "id": "0f8e8e45-0966-4183-b08d-f9ed55d61b72",
   "metadata": {},
   "outputs": [
    {
     "name": "stdout",
     "output_type": "stream",
     "text": [
      "[   2021.  1143669.7   83085.5  450904.5  609679.7]\n"
     ]
    }
   ],
   "source": [
    "max_gdp_index_hcz = np.nanargmax(hcz_gdpS)\n",
    "row = hcz[max_gdp_index_hcz]\n",
    "print(row)"
   ]
  },
  {
   "cell_type": "code",
   "execution_count": 58,
   "id": "76251ba6-cefe-4da0-a472-8bbae9e14420",
   "metadata": {},
   "outputs": [
    {
     "name": "stdout",
     "output_type": "stream",
     "text": [
      "[  2012.  538580.   49084.6 244639.1 244856.2]\n"
     ]
    }
   ],
   "source": [
    "min_gdp_index_hcz = np.nanargmin(hcz_gdpS)\n",
    "row = hcz[min_gdp_index_hcz]\n",
    "print(row)"
   ]
  },
  {
   "cell_type": "code",
   "execution_count": 59,
   "id": "68bfc579-ed3f-4769-86cc-850e2a12660d",
   "metadata": {},
   "outputs": [
    {
     "name": "stdout",
     "output_type": "stream",
     "text": [
      "[2013. 2017. 2018. 2021.]\n"
     ]
    }
   ],
   "source": [
    "index = np.where(hcz_srate > 10)[0]\n",
    "years = hcz[index, 0]\n",
    "print(years)"
   ]
  },
  {
   "cell_type": "code",
   "execution_count": 61,
   "id": "afd41074-de02-41f6-9214-508c5facd39f",
   "metadata": {},
   "outputs": [],
   "source": [
    "np.savetxt(\"./GDPSta.csv\", data2,delimiter=',', fmt='%.2f')"
   ]
  },
  {
   "cell_type": "code",
   "execution_count": null,
   "id": "3b2475c9-4c1c-43cb-bbe7-a1b48442fbf3",
   "metadata": {},
   "outputs": [],
   "source": []
  }
 ],
 "metadata": {
  "kernelspec": {
   "display_name": "Python 3 (ipykernel)",
   "language": "python",
   "name": "python3"
  },
  "language_info": {
   "codemirror_mode": {
    "name": "ipython",
    "version": 3
   },
   "file_extension": ".py",
   "mimetype": "text/x-python",
   "name": "python",
   "nbconvert_exporter": "python",
   "pygments_lexer": "ipython3",
   "version": "3.13.7"
  }
 },
 "nbformat": 4,
 "nbformat_minor": 5
}
