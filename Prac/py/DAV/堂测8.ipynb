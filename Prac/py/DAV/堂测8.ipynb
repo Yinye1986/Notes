{
 "cells": [
  {
   "cell_type": "code",
   "execution_count": 4,
   "id": "bcd84d1f-081c-430a-8878-2dc90b9304e6",
   "metadata": {},
   "outputs": [
    {
     "data": {
      "text/html": [
       "<div>\n",
       "<style scoped>\n",
       "    .dataframe tbody tr th:only-of-type {\n",
       "        vertical-align: middle;\n",
       "    }\n",
       "\n",
       "    .dataframe tbody tr th {\n",
       "        vertical-align: top;\n",
       "    }\n",
       "\n",
       "    .dataframe thead th {\n",
       "        text-align: right;\n",
       "    }\n",
       "</style>\n",
       "<table border=\"1\" class=\"dataframe\">\n",
       "  <thead>\n",
       "    <tr style=\"text-align: right;\">\n",
       "      <th></th>\n",
       "      <th>日期(年月日)</th>\n",
       "      <th>城市</th>\n",
       "      <th>单据编码</th>\n",
       "      <th>门店编码</th>\n",
       "      <th>门店名称</th>\n",
       "      <th>商品编码</th>\n",
       "      <th>商品类别</th>\n",
       "      <th>商品名称</th>\n",
       "      <th>省份</th>\n",
       "      <th>成本额</th>\n",
       "      <th>数量</th>\n",
       "      <th>销售额</th>\n",
       "    </tr>\n",
       "  </thead>\n",
       "  <tbody>\n",
       "    <tr>\n",
       "      <th>0</th>\n",
       "      <td>2020-04-28</td>\n",
       "      <td>无锡市</td>\n",
       "      <td>SMDSH18005229</td>\n",
       "      <td>D010254</td>\n",
       "      <td>无锡店</td>\n",
       "      <td>62CF9CFA-1E86-4960-B7CA-F077A8BDD5A6</td>\n",
       "      <td>零食</td>\n",
       "      <td>三全960g奶香馒头</td>\n",
       "      <td>江苏省</td>\n",
       "      <td>1422.13</td>\n",
       "      <td>165</td>\n",
       "      <td>3737.18</td>\n",
       "    </tr>\n",
       "    <tr>\n",
       "      <th>1</th>\n",
       "      <td>2020-04-28</td>\n",
       "      <td>无锡市</td>\n",
       "      <td>SMDSH18005228</td>\n",
       "      <td>D010254</td>\n",
       "      <td>无锡店</td>\n",
       "      <td>62CF9CFA-1E86-4960-B7CA-F077A8BDD5A6</td>\n",
       "      <td>零食</td>\n",
       "      <td>三全960g奶香馒头</td>\n",
       "      <td>江苏省</td>\n",
       "      <td>1422.13</td>\n",
       "      <td>165</td>\n",
       "      <td>3737.18</td>\n",
       "    </tr>\n",
       "    <tr>\n",
       "      <th>2</th>\n",
       "      <td>2020-04-28</td>\n",
       "      <td>无锡市</td>\n",
       "      <td>SMDSH18005227</td>\n",
       "      <td>D010254</td>\n",
       "      <td>无锡店</td>\n",
       "      <td>62CF9CFA-1E86-4960-B7CA-F077A8BDD5A6</td>\n",
       "      <td>零食</td>\n",
       "      <td>三全960g奶香馒头</td>\n",
       "      <td>江苏省</td>\n",
       "      <td>1422.13</td>\n",
       "      <td>165</td>\n",
       "      <td>3737.18</td>\n",
       "    </tr>\n",
       "    <tr>\n",
       "      <th>3</th>\n",
       "      <td>2020-04-28</td>\n",
       "      <td>无锡市</td>\n",
       "      <td>SMDSH18005226</td>\n",
       "      <td>D010254</td>\n",
       "      <td>无锡店</td>\n",
       "      <td>62CF9CFA-1E86-4960-B7CA-F077A8BDD5A6</td>\n",
       "      <td>零食</td>\n",
       "      <td>三全960g奶香馒头</td>\n",
       "      <td>江苏省</td>\n",
       "      <td>1422.13</td>\n",
       "      <td>165</td>\n",
       "      <td>3737.18</td>\n",
       "    </tr>\n",
       "    <tr>\n",
       "      <th>4</th>\n",
       "      <td>2020-04-28</td>\n",
       "      <td>无锡市</td>\n",
       "      <td>SMDSH18005225</td>\n",
       "      <td>D010254</td>\n",
       "      <td>无锡店</td>\n",
       "      <td>62CF9CFA-1E86-4960-B7CA-F077A8BDD5A6</td>\n",
       "      <td>零食</td>\n",
       "      <td>三全960g奶香馒头</td>\n",
       "      <td>江苏省</td>\n",
       "      <td>1422.13</td>\n",
       "      <td>165</td>\n",
       "      <td>3737.18</td>\n",
       "    </tr>\n",
       "  </tbody>\n",
       "</table>\n",
       "</div>"
      ],
      "text/plain": [
       "      日期(年月日)   城市           单据编码     门店编码 门店名称  \\\n",
       "0  2020-04-28  无锡市  SMDSH18005229  D010254  无锡店   \n",
       "1  2020-04-28  无锡市  SMDSH18005228  D010254  无锡店   \n",
       "2  2020-04-28  无锡市  SMDSH18005227  D010254  无锡店   \n",
       "3  2020-04-28  无锡市  SMDSH18005226  D010254  无锡店   \n",
       "4  2020-04-28  无锡市  SMDSH18005225  D010254  无锡店   \n",
       "\n",
       "                                   商品编码 商品类别        商品名称   省份      成本额   数量  \\\n",
       "0  62CF9CFA-1E86-4960-B7CA-F077A8BDD5A6   零食  三全960g奶香馒头  江苏省  1422.13  165   \n",
       "1  62CF9CFA-1E86-4960-B7CA-F077A8BDD5A6   零食  三全960g奶香馒头  江苏省  1422.13  165   \n",
       "2  62CF9CFA-1E86-4960-B7CA-F077A8BDD5A6   零食  三全960g奶香馒头  江苏省  1422.13  165   \n",
       "3  62CF9CFA-1E86-4960-B7CA-F077A8BDD5A6   零食  三全960g奶香馒头  江苏省  1422.13  165   \n",
       "4  62CF9CFA-1E86-4960-B7CA-F077A8BDD5A6   零食  三全960g奶香馒头  江苏省  1422.13  165   \n",
       "\n",
       "       销售额  \n",
       "0  3737.18  \n",
       "1  3737.18  \n",
       "2  3737.18  \n",
       "3  3737.18  \n",
       "4  3737.18  "
      ]
     },
     "metadata": {},
     "output_type": "display_data"
    }
   ],
   "source": [
    "import pandas as pd\n",
    "hcz = pd.read_excel(\"超市销售明细表上（1-4月）.xlsx\")\n",
    "display(hcz.head())"
   ]
  },
  {
   "cell_type": "code",
   "execution_count": 6,
   "id": "d9d1e182-df0b-4023-9798-5fcdd050c54f",
   "metadata": {},
   "outputs": [
    {
     "name": "stdout",
     "output_type": "stream",
     "text": [
      "\n",
      "新增“月份”列后的数据（前5行）\n"
     ]
    },
    {
     "data": {
      "text/html": [
       "<div>\n",
       "<style scoped>\n",
       "    .dataframe tbody tr th:only-of-type {\n",
       "        vertical-align: middle;\n",
       "    }\n",
       "\n",
       "    .dataframe tbody tr th {\n",
       "        vertical-align: top;\n",
       "    }\n",
       "\n",
       "    .dataframe thead th {\n",
       "        text-align: right;\n",
       "    }\n",
       "</style>\n",
       "<table border=\"1\" class=\"dataframe\">\n",
       "  <thead>\n",
       "    <tr style=\"text-align: right;\">\n",
       "      <th></th>\n",
       "      <th>日期(年月日)</th>\n",
       "      <th>月份</th>\n",
       "    </tr>\n",
       "  </thead>\n",
       "  <tbody>\n",
       "    <tr>\n",
       "      <th>0</th>\n",
       "      <td>2020-04-28</td>\n",
       "      <td>4</td>\n",
       "    </tr>\n",
       "    <tr>\n",
       "      <th>1</th>\n",
       "      <td>2020-04-28</td>\n",
       "      <td>4</td>\n",
       "    </tr>\n",
       "    <tr>\n",
       "      <th>2</th>\n",
       "      <td>2020-04-28</td>\n",
       "      <td>4</td>\n",
       "    </tr>\n",
       "    <tr>\n",
       "      <th>3</th>\n",
       "      <td>2020-04-28</td>\n",
       "      <td>4</td>\n",
       "    </tr>\n",
       "    <tr>\n",
       "      <th>4</th>\n",
       "      <td>2020-04-28</td>\n",
       "      <td>4</td>\n",
       "    </tr>\n",
       "  </tbody>\n",
       "</table>\n",
       "</div>"
      ],
      "text/plain": [
       "     日期(年月日)  月份\n",
       "0 2020-04-28   4\n",
       "1 2020-04-28   4\n",
       "2 2020-04-28   4\n",
       "3 2020-04-28   4\n",
       "4 2020-04-28   4"
      ]
     },
     "metadata": {},
     "output_type": "display_data"
    }
   ],
   "source": [
    "hcz['日期(年月日)'] = pd.to_datetime(hcz['日期(年月日)'])\n",
    "hcz['月份'] = hcz['日期(年月日)'].dt.month\n",
    "print(\"\\n新增“月份”列后的数据（前5行）\")\n",
    "display(hcz[['日期(年月日)', '月份']].head())"
   ]
  },
  {
   "cell_type": "code",
   "execution_count": 8,
   "id": "256886dd-c06b-4c74-8a0c-47e157d6b95a",
   "metadata": {},
   "outputs": [
    {
     "name": "stdout",
     "output_type": "stream",
     "text": [
      "\n",
      "各省门店销售额总和（降序）\n"
     ]
    },
    {
     "data": {
      "text/html": [
       "<div>\n",
       "<style scoped>\n",
       "    .dataframe tbody tr th:only-of-type {\n",
       "        vertical-align: middle;\n",
       "    }\n",
       "\n",
       "    .dataframe tbody tr th {\n",
       "        vertical-align: top;\n",
       "    }\n",
       "\n",
       "    .dataframe thead th {\n",
       "        text-align: right;\n",
       "    }\n",
       "</style>\n",
       "<table border=\"1\" class=\"dataframe\">\n",
       "  <thead>\n",
       "    <tr style=\"text-align: right;\">\n",
       "      <th></th>\n",
       "      <th>省份</th>\n",
       "      <th>门店名称</th>\n",
       "      <th>销售额</th>\n",
       "    </tr>\n",
       "  </thead>\n",
       "  <tbody>\n",
       "    <tr>\n",
       "      <th>0</th>\n",
       "      <td>江苏省</td>\n",
       "      <td>无锡店</td>\n",
       "      <td>115858.95</td>\n",
       "    </tr>\n",
       "  </tbody>\n",
       "</table>\n",
       "</div>"
      ],
      "text/plain": [
       "    省份 门店名称        销售额\n",
       "0  江苏省  无锡店  115858.95"
      ]
     },
     "metadata": {},
     "output_type": "display_data"
    }
   ],
   "source": [
    "result_3 = hcz.groupby(['省份', '门店名称'])['销售额'].sum().reset_index().sort_values('销售额', ascending=False)\n",
    "print(\"\\n各省门店销售额总和（降序）\")\n",
    "display(result_3)"
   ]
  },
  {
   "cell_type": "code",
   "execution_count": 9,
   "id": "b04d614b-d880-48eb-ac7b-5067110ce396",
   "metadata": {},
   "outputs": [
    {
     "name": "stdout",
     "output_type": "stream",
     "text": [
      "\n",
      "各省1-4月销售数量总和（降序）\n"
     ]
    },
    {
     "data": {
      "text/html": [
       "<div>\n",
       "<style scoped>\n",
       "    .dataframe tbody tr th:only-of-type {\n",
       "        vertical-align: middle;\n",
       "    }\n",
       "\n",
       "    .dataframe tbody tr th {\n",
       "        vertical-align: top;\n",
       "    }\n",
       "\n",
       "    .dataframe thead th {\n",
       "        text-align: right;\n",
       "    }\n",
       "</style>\n",
       "<table border=\"1\" class=\"dataframe\">\n",
       "  <thead>\n",
       "    <tr style=\"text-align: right;\">\n",
       "      <th></th>\n",
       "      <th>省份</th>\n",
       "      <th>月份</th>\n",
       "      <th>数量</th>\n",
       "    </tr>\n",
       "  </thead>\n",
       "  <tbody>\n",
       "    <tr>\n",
       "      <th>2</th>\n",
       "      <td>江苏省</td>\n",
       "      <td>4</td>\n",
       "      <td>4170</td>\n",
       "    </tr>\n",
       "    <tr>\n",
       "      <th>0</th>\n",
       "      <td>江苏省</td>\n",
       "      <td>1</td>\n",
       "      <td>500</td>\n",
       "    </tr>\n",
       "    <tr>\n",
       "      <th>1</th>\n",
       "      <td>江苏省</td>\n",
       "      <td>3</td>\n",
       "      <td>500</td>\n",
       "    </tr>\n",
       "  </tbody>\n",
       "</table>\n",
       "</div>"
      ],
      "text/plain": [
       "    省份  月份    数量\n",
       "2  江苏省   4  4170\n",
       "0  江苏省   1   500\n",
       "1  江苏省   3   500"
      ]
     },
     "metadata": {},
     "output_type": "display_data"
    }
   ],
   "source": [
    "hcz_q1 = hcz[hcz['月份'].between(1, 4)]\n",
    "result_4 = hcz_q1.groupby(['省份', '月份'])['数量'].sum().reset_index().sort_values('数量', ascending=False)\n",
    "print(\"\\n各省1-4月销售数量总和（降序）\")\n",
    "display(result_4)"
   ]
  },
  {
   "cell_type": "code",
   "execution_count": null,
   "id": "627c3887-54cc-4d49-bae6-b86b9fa3bf33",
   "metadata": {},
   "outputs": [],
   "source": [
    "result_5 = hcz_q1.groupby(['省份', '月份', '商品类别'])['数量'].sum().reset_index().sort_values('数量', ascending=False)\n",
    "print(\"\\n✅ 步骤5：各省1-4月各商品类别销售数量总和（降序）\")\n",
    "display(result_5)\n"
   ]
  }
 ],
 "metadata": {
  "kernelspec": {
   "display_name": "Python 3 (ipykernel)",
   "language": "python",
   "name": "python3"
  },
  "language_info": {
   "codemirror_mode": {
    "name": "ipython",
    "version": 3
   },
   "file_extension": ".py",
   "mimetype": "text/x-python",
   "name": "python",
   "nbconvert_exporter": "python",
   "pygments_lexer": "ipython3",
   "version": "3.13.7"
  }
 },
 "nbformat": 4,
 "nbformat_minor": 5
}
