{
 "cells": [
  {
   "cell_type": "code",
   "execution_count": 98,
   "id": "de3f1778-c8bb-4859-bb91-e21ad8a36069",
   "metadata": {},
   "outputs": [],
   "source": [
    "import numpy as np"
   ]
  },
  {
   "cell_type": "markdown",
   "id": "527f29ff-bda1-477d-9a58-9bb1ee1ec469",
   "metadata": {},
   "source": [
    "# 创建数组"
   ]
  },
  {
   "cell_type": "code",
   "execution_count": 99,
   "id": "50b448be-543e-48c1-8f69-4a938e68cf29",
   "metadata": {},
   "outputs": [
    {
     "name": "stdout",
     "output_type": "stream",
     "text": [
      "一维数组:\n",
      " [1 2 3]\n"
     ]
    }
   ],
   "source": [
    "array1 = np.array([1, 2, 3])\n",
    "print(\"一维数组:\\n\", array1)"
   ]
  },
  {
   "cell_type": "code",
   "execution_count": 100,
   "id": "4dc5fb15-cd5c-4ba5-b1cb-e41cc6e50b3b",
   "metadata": {},
   "outputs": [
    {
     "name": "stdout",
     "output_type": "stream",
     "text": [
      "二维数组:\n",
      " [[1 2 3]\n",
      " [1 2 3]\n",
      " [1 2 3]\n",
      " [1 2 3]]\n"
     ]
    }
   ],
   "source": [
    "array2 = np.array([[1, 2, 3], [1, 2, 3], [1, 2, 3], [1, 2, 3]])\n",
    "print(\"二维数组:\\n\", array2)"
   ]
  },
  {
   "cell_type": "markdown",
   "id": "c664835c-bb64-43a8-b597-9cf8032b65bc",
   "metadata": {},
   "source": [
    "## arange(等差)"
   ]
  },
  {
   "cell_type": "code",
   "execution_count": 101,
   "id": "3e00097c-c6e8-4b3a-9eb7-6cabee3be035",
   "metadata": {},
   "outputs": [
    {
     "name": "stdout",
     "output_type": "stream",
     "text": [
      "[0.  0.1 0.2 0.3 0.4 0.5 0.6 0.7 0.8 0.9]\n",
      "[0.   0.09 0.18 0.27 0.36 0.45 0.54 0.63 0.72 0.81 0.9  0.99]\n"
     ]
    }
   ],
   "source": [
    "array3 = np.arange(0, 1, 0.1, float)\n",
    "print(array3)\n",
    "array4 = np.arange(0, 1, 0.09, float)\n",
    "print(array4)"
   ]
  },
  {
   "cell_type": "markdown",
   "id": "5e65d70d-4075-4ccd-9e77-61be2071c25d",
   "metadata": {},
   "source": [
    "从start开始, 步长为step的一串数据, 终值小于设定stop"
   ]
  },
  {
   "cell_type": "markdown",
   "id": "43b0b5ef-4441-4708-b311-7ae24f3882b0",
   "metadata": {},
   "source": [
    "## linspace(等差)"
   ]
  },
  {
   "cell_type": "code",
   "execution_count": 102,
   "id": "56511200-cdd8-452a-86dc-6c27fe8f70e6",
   "metadata": {},
   "outputs": [
    {
     "name": "stdout",
     "output_type": "stream",
     "text": [
      "[0.         0.02040816 0.04081633 0.06122449 0.08163265 0.10204082\n",
      " 0.12244898 0.14285714 0.16326531 0.18367347 0.20408163 0.2244898\n",
      " 0.24489796 0.26530612 0.28571429 0.30612245 0.32653061 0.34693878\n",
      " 0.36734694 0.3877551  0.40816327 0.42857143 0.44897959 0.46938776\n",
      " 0.48979592 0.51020408 0.53061224 0.55102041 0.57142857 0.59183673\n",
      " 0.6122449  0.63265306 0.65306122 0.67346939 0.69387755 0.71428571\n",
      " 0.73469388 0.75510204 0.7755102  0.79591837 0.81632653 0.83673469\n",
      " 0.85714286 0.87755102 0.89795918 0.91836735 0.93877551 0.95918367\n",
      " 0.97959184 1.        ]\n",
      "[0.   0.02 0.04 0.06 0.08 0.1  0.12 0.14 0.16 0.18 0.2  0.22 0.24 0.26\n",
      " 0.28 0.3  0.32 0.34 0.36 0.38 0.4  0.42 0.44 0.46 0.48 0.5  0.52 0.54\n",
      " 0.56 0.58 0.6  0.62 0.64 0.66 0.68 0.7  0.72 0.74 0.76 0.78 0.8  0.82\n",
      " 0.84 0.86 0.88 0.9  0.92 0.94 0.96 0.98 1.  ]\n"
     ]
    }
   ],
   "source": [
    "array5 = np.linspace(0, 1, 50, float)\n",
    "print(array5)\n",
    "array6 = np.linspace(0, 1, 51, float)\n",
    "print(array6)\n"
   ]
  },
  {
   "cell_type": "markdown",
   "id": "1594422d-793f-4460-b883-4dcc3157e240",
   "metadata": {},
   "source": [
    "包含start, stop在内的num个数, 步长为(stop-start)/(num-1)\n",
    "\n",
    "传入参数endpoint = false 可不包含stop\n",
    "\n",
    "传入参数retstep = true 可返回算出的步长"
   ]
  },
  {
   "cell_type": "markdown",
   "id": "7decb341-abe7-45fc-907d-97c26e6a5182",
   "metadata": {},
   "source": [
    "## logspace(等比)"
   ]
  },
  {
   "cell_type": "code",
   "execution_count": 103,
   "id": "8c89c638-a680-4a9f-a668-b94a9cc9f0ee",
   "metadata": {},
   "outputs": [
    {
     "name": "stdout",
     "output_type": "stream",
     "text": [
      "[  1.           1.04761575   1.09749877   1.149757     1.20450354\n",
      "   1.26185688   1.32194115   1.38488637   1.45082878   1.51991108\n",
      "   1.59228279   1.66810054   1.7475284    1.83073828   1.91791026\n",
      "   2.009233     2.10490414   2.20513074   2.3101297    2.42012826\n",
      "   2.53536449   2.65608778   2.7825594    2.91505306   3.05385551\n",
      "   3.19926714   3.35160265   3.51119173   3.67837977   3.85352859\n",
      "   4.03701726   4.22924287   4.43062146   4.64158883   4.86260158\n",
      "   5.09413801   5.33669923   5.59081018   5.85702082   6.13590727\n",
      "   6.42807312   6.73415066   7.05480231   7.39072203   7.74263683\n",
      "   8.11130831   8.49753436   8.90215085   9.32603347   9.77009957\n",
      "  10.23531022  10.72267222  11.23324033  11.76811952  12.32846739\n",
      "  12.91549665  13.53047775  14.17474163  14.84968262  15.55676144\n",
      "  16.29750835  17.07352647  17.88649529  18.73817423  19.6304065\n",
      "  20.56512308  21.5443469   22.5701972   23.64489413  24.77076356\n",
      "  25.95024211  27.18588243  28.48035868  29.8364724   31.2571585\n",
      "  32.74549163  34.30469286  35.93813664  37.64935807  39.44206059\n",
      "  41.320124    43.28761281  45.34878508  47.50810162  49.77023564\n",
      "  52.14008288  54.62277218  57.22367659  59.94842503  62.80291442\n",
      "  65.79332247  68.92612104  72.20809018  75.64633276  79.24828984\n",
      "  83.02175681  86.97490026  91.11627561  95.45484567 100.        ]\n"
     ]
    }
   ],
   "source": [
    "array7 = np.logspace(0, 2, 100, float)\n",
    "print(array7)"
   ]
  },
  {
   "cell_type": "code",
   "execution_count": null,
   "id": "5328d433-9d4a-49b9-8f4c-664c06417a4e",
   "metadata": {},
   "outputs": [],
   "source": [
    "# "
   ]
  },
  {
   "cell_type": "markdown",
   "id": "a87fcee4-46d8-4b30-896e-f94e829e8cd9",
   "metadata": {},
   "source": [
    "# 数组属性"
   ]
  },
  {
   "cell_type": "code",
   "execution_count": 104,
   "id": "b2fe7a0d-372f-43fc-afc2-f94b0ba0f281",
   "metadata": {},
   "outputs": [
    {
     "name": "stdout",
     "output_type": "stream",
     "text": [
      "一维数组形状: (3,)\n",
      "数组元素类型: int64\n",
      "数组元素个数: 3\n",
      "元素存储空间(字节): 8\n",
      "数组维度: 1\n"
     ]
    }
   ],
   "source": [
    "print(\"一维数组形状:\", array1.shape)\n",
    "print(\"数组元素类型:\", array1.dtype)\n",
    "print(\"数组元素个数:\", array1.size)\n",
    "print(\"元素存储空间(字节):\", array1.itemsize)\n",
    "print(\"数组维度:\", array1.ndim)"
   ]
  },
  {
   "cell_type": "code",
   "execution_count": 105,
   "id": "2bf815f3-af2c-4414-9cff-2dabf008bdda",
   "metadata": {},
   "outputs": [
    {
     "name": "stdout",
     "output_type": "stream",
     "text": [
      "二维数组形状: (4, 3)\n",
      "数组元素类型: int64\n",
      "数组元素个数: 12\n",
      "元素存储空间(字节): 8\n",
      "数组维度: 2\n"
     ]
    }
   ],
   "source": [
    "print(\"二维数组形状:\", array2.shape)\n",
    "print(\"数组元素类型:\", array2.dtype)\n",
    "print(\"数组元素个数:\", array2.size)\n",
    "print(\"元素存储空间(字节):\", array2.itemsize)\n",
    "print(\"数组维度:\", array2.ndim)"
   ]
  },
  {
   "cell_type": "markdown",
   "id": "914ad13f-278e-4cf1-b8fd-b0dc5d5ee0c2",
   "metadata": {},
   "source": [
    "# 编辑数组属性"
   ]
  },
  {
   "cell_type": "code",
   "execution_count": 106,
   "id": "dc74a6f2-29b9-453a-a4fd-9ba4795f9e59",
   "metadata": {},
   "outputs": [
    {
     "name": "stdout",
     "output_type": "stream",
     "text": [
      "[[1 2 3 1]\n",
      " [2 3 1 2]\n",
      " [3 1 2 3]]\n"
     ]
    }
   ],
   "source": [
    "array2.shape = 3, 4\n",
    "print(array2)"
   ]
  },
  {
   "cell_type": "markdown",
   "id": "d80148aa-7513-4cf2-a03b-01fe44a4c4ea",
   "metadata": {},
   "source": [
    "只能在元素总数相同的情况下改变形状"
   ]
  }
 ],
 "metadata": {
  "kernelspec": {
   "display_name": "Python 3 (ipykernel)",
   "language": "python",
   "name": "python3"
  },
  "language_info": {
   "codemirror_mode": {
    "name": "ipython",
    "version": 3
   },
   "file_extension": ".py",
   "mimetype": "text/x-python",
   "name": "python",
   "nbconvert_exporter": "python",
   "pygments_lexer": "ipython3",
   "version": "3.13.7"
  }
 },
 "nbformat": 4,
 "nbformat_minor": 5
}
