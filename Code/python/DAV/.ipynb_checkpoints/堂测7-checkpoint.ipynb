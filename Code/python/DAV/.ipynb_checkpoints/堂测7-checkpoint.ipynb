{
 "cells": [
  {
   "cell_type": "code",
   "execution_count": 15,
   "id": "7582f426-e625-4f5c-9d07-520bed3adbdc",
   "metadata": {},
   "outputs": [],
   "source": [
    "import pandas as pd\n",
    "import numpy as np"
   ]
  },
  {
   "cell_type": "code",
   "execution_count": 37,
   "id": "7af6dc7c-0b58-4653-bd5f-c4a0ed68ac59",
   "metadata": {},
   "outputs": [
    {
     "name": "stdout",
     "output_type": "stream",
     "text": [
      "使用head()查看前5行数据\n",
      "       年份   粮食产量/万吨   谷物产量/万吨   稻谷产量/万吨   小麦产量/万吨   玉米产量/万吨  豆类产量/万吨  薯类产量/万吨\n",
      "0  2023年  69541.00  64143.00  20660.30  13659.00  28884.20      NaN      NaN\n",
      "1  2022年  68652.77  63324.34  20849.48  13772.34  27720.30  2351.03  2977.39\n",
      "2  2021年  68284.75  63275.69  21284.24  13694.45  27255.06  1965.52  3043.54\n",
      "3  2020年  66949.15  61674.28  21185.96  13425.38  26066.52  2287.46  2987.41\n",
      "4  2019年  66384.34  61369.73  20961.40  13359.63  26077.89  2131.90  2882.72\n",
      "<class 'pandas.core.frame.DataFrame'>\n",
      "RangeIndex: 75 entries, 0 to 74\n",
      "Data columns (total 8 columns):\n",
      " #   Column   Non-Null Count  Dtype  \n",
      "---  ------   --------------  -----  \n",
      " 0   年份       75 non-null     object \n",
      " 1   粮食产量/万吨  75 non-null     float64\n",
      " 2   谷物产量/万吨  33 non-null     float64\n",
      " 3   稻谷产量/万吨  75 non-null     float64\n",
      " 4   小麦产量/万吨  75 non-null     float64\n",
      " 5   玉米产量/万吨  75 non-null     float64\n",
      " 6   豆类产量/万吨  32 non-null     float64\n",
      " 7   薯类产量/万吨  74 non-null     float64\n",
      "dtypes: float64(7), object(1)\n",
      "memory usage: 4.8+ KB\n"
     ]
    }
   ],
   "source": [
    "# 使用read_csv()加载文件\n",
    "tmp = pd.read_csv('粮食产量年度数据.csv')\n",
    "# 切去不用的列\n",
    "# df.columns.get_loc('农作物总播种面积/千公顷')用于获得字段所在列的索引\n",
    "hcz = tmp.iloc[:, :(tmp.columns.get_loc('农作物总播种面积/千公顷'))]\n",
    "print(\"使用head()查看前5行数据\\n\",hcz.head())\n",
    "hcz.info()"
   ]
  },
  {
   "cell_type": "code",
   "execution_count": 40,
   "id": "8dea40af-acb1-47fc-b57c-9afec57b5bb7",
   "metadata": {},
   "outputs": [
    {
     "name": "stdout",
     "output_type": "stream",
     "text": [
      "清洗前的数据形状:(75, 8)\n",
      "每列的缺失值数量:\n",
      "年份          0\n",
      "粮食产量/万吨     0\n",
      "谷物产量/万吨    42\n",
      "稻谷产量/万吨     0\n",
      "小麦产量/万吨     0\n",
      "玉米产量/万吨     0\n",
      "豆类产量/万吨    43\n",
      "薯类产量/万吨     1\n",
      "dtype: int64\n",
      "删除缺失值后的数据形状: (32, 8)\n"
     ]
    }
   ],
   "source": [
    "print(f\"清洗前的数据形状:{hcz.shape}\")\n",
    "print(f\"每列的缺失值数量:\\n{df.isnull().sum()}\")\n",
    "hcz.dropna(inplace=True)\n",
    "print(f\"删除缺失值后的数据形状: {hcz.shape}\")"
   ]
  },
  {
   "cell_type": "code",
   "execution_count": 41,
   "id": "d4072027-fcd4-4a79-9d0a-0c650c533a54",
   "metadata": {},
   "outputs": [
    {
     "name": "stdout",
     "output_type": "stream",
     "text": [
      "重复行的数量:0\n",
      "删除重复行后的数据形状:(32, 8)\n"
     ]
    }
   ],
   "source": [
    "print(f\"重复行的数量:{hcz.duplicated().sum()}\")\n",
    "hcz.drop_duplicates(inplace=True)\n",
    "print(f\"删除重复行后的数据形状:{hcz.shape}\")"
   ]
  },
  {
   "cell_type": "code",
   "execution_count": 49,
   "id": "1dd038e5-3eb2-424d-a4ed-2b1368558578",
   "metadata": {},
   "outputs": [
    {
     "name": "stdout",
     "output_type": "stream",
     "text": [
      "平均粮食产量为:54596.07万吨\n",
      "高于平均产量的年份:\n",
      "1     2022年\n",
      "2     2021年\n",
      "3     2020年\n",
      "4     2019年\n",
      "5     2018年\n",
      "6     2017年\n",
      "7     2016年\n",
      "8     2015年\n",
      "9     2014年\n",
      "10    2013年\n",
      "11    2012年\n",
      "12    2011年\n",
      "13    2010年\n",
      "Name: 年份, dtype: object\n"
     ]
    }
   ],
   "source": [
    "mean_production = hcz['粮食产量/万吨'].mean()\n",
    "print(f\"平均粮食产量为:{mean_production:.2f}万吨\")\n",
    "years = hcz[hcz['粮食产量/万吨'] > mean_production]['年份']\n",
    "print(f\"高于平均产量的年份:\\n{years}\")"
   ]
  },
  {
   "cell_type": "code",
   "execution_count": 61,
   "id": "7a68f459-98d6-4067-8fb2-c26cb12558ba",
   "metadata": {},
   "outputs": [
    {
     "name": "stdout",
     "output_type": "stream",
     "text": [
      "\n",
      "--- 粮食产量最高的年份数据 ---\n",
      "年份            2022年\n",
      "粮食产量/万吨    68652.77\n",
      "谷物产量/万吨    63324.34\n",
      "稻谷产量/万吨    20849.48\n",
      "小麦产量/万吨    13772.34\n",
      "玉米产量/万吨     27720.3\n",
      "豆类产量/万吨     2351.03\n",
      "薯类产量/万吨     2977.39\n",
      "Name: 1, dtype: object\n",
      "\n",
      "--- 粮食产量最低的年份数据 ---\n",
      "年份            2003年\n",
      "粮食产量/万吨    43069.53\n",
      "谷物产量/万吨    37428.73\n",
      "稻谷产量/万吨    16065.56\n",
      "小麦产量/万吨     8648.85\n",
      "玉米产量/万吨    11583.02\n",
      "豆类产量/万吨     2127.51\n",
      "薯类产量/万吨     3513.27\n",
      "Name: 20, dtype: object\n"
     ]
    }
   ],
   "source": [
    "max_production = hcz.loc[hcz['粮食产量/万吨'].idxmax()]\n",
    "print(\"\\n--- 粮食产量最高的年份数据 ---\")\n",
    "print(max_production)\n",
    "min_production = hcz.loc[hcz['粮食产量/万吨'].idxmin()]\n",
    "print(\"\\n--- 粮食产量最低的年份数据 ---\")\n",
    "print(min_production)"
   ]
  },
  {
   "cell_type": "code",
   "execution_count": 62,
   "id": "cc120a3b-7c07-4310-a0b4-eca90453620c",
   "metadata": {},
   "outputs": [
    {
     "name": "stdout",
     "output_type": "stream",
     "text": [
      "\n",
      "---     2020年的数据     ---\n",
      "      年份   粮食产量/万吨   谷物产量/万吨   稻谷产量/万吨   小麦产量/万吨   玉米产量/万吨  豆类产量/万吨  薯类产量/万吨\n",
      "3  2020年  66949.15  61674.28  21185.96  13425.38  26066.52  2287.46  2987.41\n",
      "\n",
      "--- 谷物产量高于50000万吨的年份数据 ---\n",
      "       年份   粮食产量/万吨   谷物产量/万吨   稻谷产量/万吨   小麦产量/万吨   玉米产量/万吨  豆类产量/万吨  薯类产量/万吨\n",
      "1   2022年  68652.77  63324.34  20849.48  13772.34  27720.30  2351.03  2977.39\n",
      "2   2021年  68284.75  63275.69  21284.24  13694.45  27255.06  1965.52  3043.54\n",
      "3   2020年  66949.15  61674.28  21185.96  13425.38  26066.52  2287.46  2987.41\n",
      "4   2019年  66384.34  61369.73  20961.40  13359.63  26077.89  2131.90  2882.72\n",
      "5   2018年  65789.22  61003.58  21212.90  13144.05  25717.39  1920.27  2865.37\n",
      "6   2017年  66160.73  61520.54  21267.59  13424.13  25907.07  1841.56  2798.62\n",
      "7   2016年  66043.51  61666.53  21109.42  13318.83  26361.31  1650.66  2726.32\n",
      "8   2015年  66060.27  61818.41  21214.19  13255.52  26499.22  1512.52  2729.35\n",
      "9   2014年  63964.83  59601.54  20960.91  12823.52  24976.44  1564.52  2798.76\n",
      "10  2013年  63048.20  58650.35  20628.56  12363.93  24845.32  1542.40  2855.45\n",
      "11  2012年  61222.62  56659.03  20653.23  12247.49  22955.90  1680.64  2882.96\n",
      "12  2011年  58849.33  54061.73  20288.25  11856.95  21131.60  1863.30  2924.30\n",
      "13  2010年  55911.31  51196.75  19722.57  11609.34  19075.18  1871.84  2842.72\n"
     ]
    }
   ],
   "source": [
    "d2020 = hcz[hcz['年份'] == \"2020年\"]\n",
    "print(\"\\n---     2020年的数据     ---\")\n",
    "print(d2020)\n",
    "high_cereal_production = hcz[hcz['谷物产量/万吨'] > 50000] # 注意单位是万吨\n",
    "print(\"\\n--- 谷物产量高于50000万吨的年份数据 ---\")\n",
    "print(high_cereal_production)"
   ]
  },
  {
   "cell_type": "code",
   "execution_count": 67,
   "id": "b7a4d55a-8428-415f-93b4-4cd0d8b7e42e",
   "metadata": {},
   "outputs": [
    {
     "name": "stdout",
     "output_type": "stream",
     "text": [
      "\n",
      "--- 2000-2020年全国粮食总产量 ---\n",
      "1183582.35 万吨\n"
     ]
    }
   ],
   "source": [
    "total_production_2000_2020 = hcz[(hcz['年份'] >= \"2000年\") & (hcz['年份'] <= \"2020年\")]['粮食产量/万吨'].sum()\n",
    "# 条件语句获得索引 .sum方法求和\n",
    "print(f\"\\n--- 2000-2020年全国粮食总产量 ---\\n{total_production_2000_2020:.2f} 万吨\")"
   ]
  }
 ],
 "metadata": {
  "kernelspec": {
   "display_name": "Python 3 (ipykernel)",
   "language": "python",
   "name": "python3"
  },
  "language_info": {
   "codemirror_mode": {
    "name": "ipython",
    "version": 3
   },
   "file_extension": ".py",
   "mimetype": "text/x-python",
   "name": "python",
   "nbconvert_exporter": "python",
   "pygments_lexer": "ipython3",
   "version": "3.13.7"
  }
 },
 "nbformat": 4,
 "nbformat_minor": 5
}
