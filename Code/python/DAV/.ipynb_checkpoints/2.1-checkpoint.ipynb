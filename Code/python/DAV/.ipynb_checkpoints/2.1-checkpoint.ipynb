{
 "cells": [
  {
   "cell_type": "code",
   "execution_count": null,
   "id": "de3f1778-c8bb-4859-bb91-e21ad8a36069",
   "metadata": {},
   "outputs": [],
   "source": [
    "import numpy as np"
   ]
  },
  {
   "cell_type": "markdown",
   "id": "527f29ff-bda1-477d-9a58-9bb1ee1ec469",
   "metadata": {},
   "source": [
    "# 创建数组"
   ]
  },
  {
   "cell_type": "code",
   "execution_count": null,
   "id": "50b448be-543e-48c1-8f69-4a938e68cf29",
   "metadata": {},
   "outputs": [],
   "source": [
    "array1 = np.array([1, 2, 3])\n",
    "print(\"一维数组:\\n\", array1)"
   ]
  },
  {
   "cell_type": "code",
   "execution_count": null,
   "id": "4dc5fb15-cd5c-4ba5-b1cb-e41cc6e50b3b",
   "metadata": {},
   "outputs": [],
   "source": [
    "array2 = np.array([[1, 2, 3, 4], [5, 6, 7, 8], [9, 10, 11, 12]])\n",
    "print(\"二维数组:\\n\", array2)"
   ]
  },
  {
   "cell_type": "markdown",
   "id": "c664835c-bb64-43a8-b597-9cf8032b65bc",
   "metadata": {},
   "source": [
    "## arange(等差)"
   ]
  },
  {
   "cell_type": "code",
   "execution_count": null,
   "id": "3e00097c-c6e8-4b3a-9eb7-6cabee3be035",
   "metadata": {},
   "outputs": [],
   "source": [
    "array3 = np.arange(0, 1, 0.1, float)\n",
    "print(array3)\n",
    "array4 = np.arange(0, 1, 0.09, float)\n",
    "print(array4)"
   ]
  },
  {
   "cell_type": "markdown",
   "id": "5e65d70d-4075-4ccd-9e77-61be2071c25d",
   "metadata": {},
   "source": [
    "从start开始, 步长为step的一串数据, 终值小于设定stop"
   ]
  },
  {
   "cell_type": "markdown",
   "id": "43b0b5ef-4441-4708-b311-7ae24f3882b0",
   "metadata": {},
   "source": [
    "## linspace(等差)"
   ]
  },
  {
   "cell_type": "code",
   "execution_count": null,
   "id": "56511200-cdd8-452a-86dc-6c27fe8f70e6",
   "metadata": {},
   "outputs": [],
   "source": [
    "array5 = np.linspace(0, 1, 50, float)\n",
    "print(array5)\n",
    "array6 = np.linspace(0, 1, 51, float)\n",
    "print(array6)\n"
   ]
  },
  {
   "cell_type": "markdown",
   "id": "1594422d-793f-4460-b883-4dcc3157e240",
   "metadata": {},
   "source": [
    "包含start, stop在内的num个数, 步长为(stop-start)/(num-1)\n",
    "\n",
    "endpoint=True, retstep=False, dtype=None, axis=0(得有对应维度)"
   ]
  },
  {
   "cell_type": "markdown",
   "id": "7decb341-abe7-45fc-907d-97c26e6a5182",
   "metadata": {},
   "source": [
    "## logspace(等比)"
   ]
  },
  {
   "cell_type": "code",
   "execution_count": null,
   "id": "8c89c638-a680-4a9f-a668-b94a9cc9f0ee",
   "metadata": {},
   "outputs": [],
   "source": [
    "array7 = np.logspace(0, 2, 100, float)\n",
    "print(array7)"
   ]
  },
  {
   "cell_type": "markdown",
   "id": "a51fd178-731e-4c28-8404-1fc12034107f",
   "metadata": {},
   "source": [
    "从base的start次方到base的stop次方(包含)\n",
    "\n",
    "endpoint=True, base=10.0, dtype=None, axis=0(得有对应维度)"
   ]
  },
  {
   "cell_type": "markdown",
   "id": "23ca639f-0886-44e8-a0ec-939e3c222b71",
   "metadata": {},
   "source": [
    "## zeros 全0"
   ]
  },
  {
   "cell_type": "code",
   "execution_count": null,
   "id": "3324200c-9447-4f92-8329-71a6c6dcf07c",
   "metadata": {},
   "outputs": [],
   "source": [
    "array8 = np.zeros((2,3))\n",
    "print(array8)"
   ]
  },
  {
   "cell_type": "markdown",
   "id": "21d6d951-11e2-469f-863b-845444c36974",
   "metadata": {},
   "source": [
    "((行, 列), dtype=None)"
   ]
  },
  {
   "cell_type": "markdown",
   "id": "fd00481d-845b-43b6-9ef3-f7c7209d35f3",
   "metadata": {},
   "source": [
    "## eye 对角线全1 类似单位矩阵"
   ]
  },
  {
   "cell_type": "code",
   "execution_count": null,
   "id": "01d555e0-3940-4df3-a6f6-bcdcffe724b6",
   "metadata": {},
   "outputs": [],
   "source": [
    "array9 = np.eye(3)\n",
    "print(array9)"
   ]
  },
  {
   "cell_type": "code",
   "execution_count": null,
   "id": "3210ba21-478c-4fab-98ae-9dfe3118f271",
   "metadata": {},
   "outputs": [],
   "source": [
    "array10 = np.eye(N=5, M=4)\n",
    "print(array10)"
   ]
  },
  {
   "cell_type": "code",
   "execution_count": null,
   "id": "deaf3687-0b08-427b-a861-33ada521cb35",
   "metadata": {},
   "outputs": [],
   "source": [
    "array11 = np.eye(N=5, M=4, k=1)\n",
    "print(array11)"
   ]
  },
  {
   "cell_type": "code",
   "execution_count": null,
   "id": "681a488d-95f9-4000-ab1e-f212a4b2ad4a",
   "metadata": {},
   "outputs": [],
   "source": [
    "array12 = np.eye(N=5, M=4, k=-1)\n",
    "print(array12)"
   ]
  },
  {
   "cell_type": "markdown",
   "id": "415da743-6890-40d9-ab57-c3795187a7a1",
   "metadata": {},
   "source": [
    "(行, 列, 对角线位置)"
   ]
  },
  {
   "cell_type": "markdown",
   "id": "515e5d60-1284-48cf-ac35-3cbf9f637bc5",
   "metadata": {},
   "source": [
    "## diag 除对角线都为0 类似对角矩阵"
   ]
  },
  {
   "cell_type": "code",
   "execution_count": null,
   "id": "6d9e5594-8e6e-45b7-96bc-35e8813cb6f3",
   "metadata": {},
   "outputs": [],
   "source": [
    "array13 = np.diag([1, 3, 4, 2])\n",
    "print(array13)"
   ]
  },
  {
   "cell_type": "code",
   "execution_count": null,
   "id": "e2653502-240d-40f1-9057-930fcc781b22",
   "metadata": {},
   "outputs": [],
   "source": [
    "array14 = np.diag(array2, k=0)\n",
    "print(array14)"
   ]
  },
  {
   "cell_type": "code",
   "execution_count": null,
   "id": "1f3cce5a-cdeb-402e-b241-9c30b5d7e67d",
   "metadata": {},
   "outputs": [],
   "source": [
    "array14 = np.diag(array2, k=1)\n",
    "print(array14)"
   ]
  },
  {
   "cell_type": "markdown",
   "id": "5eb13706-d931-48af-85e9-ee4c64d42c1c",
   "metadata": {},
   "source": [
    "(1-D arr) 生成对角线为这个一维数组的对角矩阵\n",
    "(2-D arr, k=0) 提取对角线, 可指定对角线位置"
   ]
  },
  {
   "cell_type": "markdown",
   "id": "a87fcee4-46d8-4b30-896e-f94e829e8cd9",
   "metadata": {},
   "source": [
    "# 数组属性"
   ]
  },
  {
   "cell_type": "code",
   "execution_count": null,
   "id": "b2fe7a0d-372f-43fc-afc2-f94b0ba0f281",
   "metadata": {},
   "outputs": [],
   "source": [
    "print(\"一维数组形状:\", array1.shape)\n",
    "print(\"数组元素类型:\", array1.dtype)\n",
    "print(\"数组元素个数:\", array1.size)\n",
    "print(\"元素存储空间(字节):\", array1.itemsize)\n",
    "print(\"数组维度:\", array1.ndim)"
   ]
  },
  {
   "cell_type": "code",
   "execution_count": null,
   "id": "2bf815f3-af2c-4414-9cff-2dabf008bdda",
   "metadata": {},
   "outputs": [],
   "source": [
    "print(\"二维数组形状:\", array2.shape)\n",
    "print(\"数组元素类型:\", array2.dtype)\n",
    "print(\"数组元素个数:\", array2.size)\n",
    "print(\"元素存储空间(字节):\", array2.itemsize)\n",
    "print(\"数组维度:\", array2.ndim)"
   ]
  },
  {
   "cell_type": "markdown",
   "id": "914ad13f-278e-4cf1-b8fd-b0dc5d5ee0c2",
   "metadata": {},
   "source": [
    "# 编辑数组属性"
   ]
  },
  {
   "cell_type": "code",
   "execution_count": null,
   "id": "dc74a6f2-29b9-453a-a4fd-9ba4795f9e59",
   "metadata": {},
   "outputs": [],
   "source": [
    "array2.shape = 3, 4\n",
    "print(array2)"
   ]
  },
  {
   "cell_type": "markdown",
   "id": "d80148aa-7513-4cf2-a03b-01fe44a4c4ea",
   "metadata": {},
   "source": [
    "只能在元素总数相同的情况下改变形状"
   ]
  },
  {
   "cell_type": "markdown",
   "id": "718683f5-74fb-4748-ad5f-37982d7dd36b",
   "metadata": {},
   "source": [
    "# 数组访问"
   ]
  },
  {
   "cell_type": "markdown",
   "id": "7f8d3d1b-b28c-43c4-bd11-d36a4a0878cc",
   "metadata": {},
   "source": [
    "# 类型转换"
   ]
  },
  {
   "cell_type": "code",
   "execution_count": null,
   "id": "fce6ee1e-4c37-466c-9947-52084cc908db",
   "metadata": {},
   "outputs": [],
   "source": [
    "value =42\n",
    "print(np.float64(value))\n",
    "print(np.int8(42.0))\n",
    "print(np.bool_(42))\n",
    "print(np.bool_(0))\n",
    "print(np.float32(True))\n",
    "print(np.float32(False))"
   ]
  },
  {
   "cell_type": "markdown",
   "id": "194147f5-8bc2-4723-9931-23b1c1d43e64",
   "metadata": {},
   "source": [
    "# 创建类型"
   ]
  },
  {
   "cell_type": "code",
   "execution_count": null,
   "id": "2eea7e67-8658-41c7-9ca5-310d98ebdb8b",
   "metadata": {},
   "outputs": [],
   "source": [
    "df = np.dtype([(\"name\", np.str_, 40), (\"numitems\", np.int64), (\"price\", np.float64)])\n",
    "print(\"数据类型:\", df)"
   ]
  },
  {
   "cell_type": "markdown",
   "id": "8ee0b423-88d1-4708-8b56-06a34aa51516",
   "metadata": {},
   "source": [
    "# 生成随机数"
   ]
  },
  {
   "cell_type": "markdown",
   "id": "30bac3b2-aa0f-42fb-8384-dfea145d0b8d",
   "metadata": {},
   "source": [
    "## 均匀随机数"
   ]
  },
  {
   "cell_type": "code",
   "execution_count": null,
   "id": "fd4ea760-59d4-4f5e-8120-15b81e5ff5e1",
   "metadata": {},
   "outputs": [],
   "source": [
    "print(np.random.random(100)) # 参数代表个数\n",
    "print(np.random.random((2,3))) # 二维数组两行三列"
   ]
  },
  {
   "cell_type": "code",
   "execution_count": null,
   "id": "d0383974-f875-444c-ba64-078a331c5a6e",
   "metadata": {},
   "outputs": [],
   "source": [
    "print(np.random.rand()) # 一个\n",
    "print(np.random.rand(2,3)) # 两行三列"
   ]
  },
  {
   "cell_type": "markdown",
   "id": "08bb35dd-1a66-4a6a-b86c-00cccd108117",
   "metadata": {},
   "source": [
    "## 正态分布随机数"
   ]
  },
  {
   "cell_type": "code",
   "execution_count": null,
   "id": "c4807673-1885-4299-8276-efb5795045df",
   "metadata": {},
   "outputs": [],
   "source": [
    "print(np.random.randn())\n",
    "print(np.random.randn(2,3))"
   ]
  },
  {
   "cell_type": "markdown",
   "id": "b2bf8745-559f-4321-898b-d513cc100aa2",
   "metadata": {},
   "source": [
    "## ..."
   ]
  }
 ],
 "metadata": {
  "kernelspec": {
   "display_name": "Python 3 (ipykernel)",
   "language": "python",
   "name": "python3"
  },
  "language_info": {
   "codemirror_mode": {
    "name": "ipython",
    "version": 3
   },
   "file_extension": ".py",
   "mimetype": "text/x-python",
   "name": "python",
   "nbconvert_exporter": "python",
   "pygments_lexer": "ipython3",
   "version": "3.13.7"
  }
 },
 "nbformat": 4,
 "nbformat_minor": 5
}
